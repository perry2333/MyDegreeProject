{
 "cells": [
  {
   "cell_type": "code",
   "execution_count": 1,
   "id": "5d9d9fc3-3dcb-444b-831f-d8cf672b78ac",
   "metadata": {},
   "outputs": [],
   "source": [
    "#pip install pyroomacoustics"
   ]
  },
  {
   "cell_type": "code",
   "execution_count": 2,
   "id": "38df9f12",
   "metadata": {},
   "outputs": [],
   "source": [
    "import numpy as np\n",
    "import matplotlib.pyplot as plt\n",
    "from scipy.io import wavfile\n",
    "from scipy.signal import fftconvolve\n",
    "import IPython\n",
    "import pyroomacoustics as pra\n",
    "#%matplotlib notebook"
   ]
  },
  {
   "cell_type": "code",
   "execution_count": 3,
   "id": "4bae0cfb",
   "metadata": {},
   "outputs": [
    {
     "data": {
      "image/png": "[encoded data removed]",
      "text/plain": [
       "<Figure size 640x480 with 1 Axes>"
      ]
     },
     "metadata": {},
     "output_type": "display_data"
    }
   ],
   "source": [
    "corners = np.array([[0,0], [0,3], [5,3], [5,1], [3,1], [3,0]]).T  # [x,y]\n",
    "room = pra.Room.from_corners(corners)\n",
    "\n",
    "fig, ax = room.plot()\n",
    "ax.set_xlim([-1, 6])\n",
    "ax.set_ylim([-1, 4]);"
   ]
  },
  {
   "cell_type": "code",
   "execution_count": 4,
   "id": "3749dcd8",
   "metadata": {},
   "outputs": [
    {
     "ename": "FileNotFoundError",
     "evalue": "[Errno 2] No such file or directory: 'pyroomacoustics/notebooks/beethoven.wav'",
     "output_type": "error",
     "traceback": [
      "\u001b[1;31m---------------------------------------------------------------------------\u001b[0m",
      "\u001b[1;31mFileNotFoundError\u001b[0m                         Traceback (most recent call last)",
      "Cell \u001b[1;32mIn[4], line 2\u001b[0m\n\u001b[0;32m      1\u001b[0m \u001b[38;5;66;03m# specify signal source\u001b[39;00m\n\u001b[1;32m----> 2\u001b[0m fs, signal \u001b[38;5;241m=\u001b[39m \u001b[43mwavfile\u001b[49m\u001b[38;5;241;43m.\u001b[39;49m\u001b[43mread\u001b[49m\u001b[43m(\u001b[49m\u001b[38;5;124;43m\"\u001b[39;49m\u001b[38;5;124;43mpyroomacoustics/notebooks/beethoven.wav\u001b[39;49m\u001b[38;5;124;43m\"\u001b[39;49m\u001b[43m)\u001b[49m\n\u001b[0;32m      4\u001b[0m \u001b[38;5;66;03m# set max_order to a low value for a quick (but less accurate) RIR\u001b[39;00m\n\u001b[0;32m      5\u001b[0m room \u001b[38;5;241m=\u001b[39m pra\u001b[38;5;241m.\u001b[39mRoom\u001b[38;5;241m.\u001b[39mfrom_corners(corners, fs\u001b[38;5;241m=\u001b[39mfs, max_order\u001b[38;5;241m=\u001b[39m\u001b[38;5;241m3\u001b[39m, materials\u001b[38;5;241m=\u001b[39mpra\u001b[38;5;241m.\u001b[39mMaterial(\u001b[38;5;241m0.2\u001b[39m, \u001b[38;5;241m0.15\u001b[39m), ray_tracing\u001b[38;5;241m=\u001b[39m\u001b[38;5;28;01mTrue\u001b[39;00m, air_absorption\u001b[38;5;241m=\u001b[39m\u001b[38;5;28;01mTrue\u001b[39;00m)\n",
      "File \u001b[1;32md:\\anacoda\\envs\\python10\\lib\\site-packages\\scipy\\io\\wavfile.py:647\u001b[0m, in \u001b[0;36mread\u001b[1;34m(filename, mmap)\u001b[0m\n\u001b[0;32m    645\u001b[0m     mmap \u001b[38;5;241m=\u001b[39m \u001b[38;5;28;01mFalse\u001b[39;00m\n\u001b[0;32m    646\u001b[0m \u001b[38;5;28;01melse\u001b[39;00m:\n\u001b[1;32m--> 647\u001b[0m     fid \u001b[38;5;241m=\u001b[39m \u001b[38;5;28;43mopen\u001b[39;49m\u001b[43m(\u001b[49m\u001b[43mfilename\u001b[49m\u001b[43m,\u001b[49m\u001b[43m \u001b[49m\u001b[38;5;124;43m'\u001b[39;49m\u001b[38;5;124;43mrb\u001b[39;49m\u001b[38;5;124;43m'\u001b[39;49m\u001b[43m)\u001b[49m\n\u001b[0;32m    649\u001b[0m \u001b[38;5;28;01mtry\u001b[39;00m:\n\u001b[0;32m    650\u001b[0m     file_size, is_big_endian \u001b[38;5;241m=\u001b[39m _read_riff_chunk(fid)\n",
      "\u001b[1;31mFileNotFoundError\u001b[0m: [Errno 2] No such file or directory: 'pyroomacoustics/notebooks/beethoven.wav'"
     ]
    }
   ],
   "source": [
    "# specify signal source\n",
    "fs, signal = wavfile.read(\"pyroomacoustics/notebooks/beethoven.wav\")\n",
    "\n",
    "# set max_order to a low value for a quick (but less accurate) RIR\n",
    "room = pra.Room.from_corners(corners, fs=fs, max_order=3, materials=pra.Material(0.2, 0.15), ray_tracing=True, air_absorption=True)\n",
    "room.extrude(2., materials=pra.Material(0.2, 0.15))\n",
    "\n",
    "# Set the ray tracing parameters\n",
    "room.set_ray_tracing(receiver_radius=0.5, n_rays=10000, energy_thres=1e-5)\n",
    "\n",
    "# add source and set the signal to WAV file content\n",
    "room.add_source([0, 1.5, 0.5], signal=signal)\n",
    "\n",
    "# add two-microphone array\n",
    "# R = np.array([[3.5, 3.6], [2., 2.], [0.5,  0.5]])  # [[x], [y], [z]]\n",
    "def SDML7(d=0.1, r=[0, 0, 0]):\n",
    "    mic_7 = np.array([[d / 2, -d / 2, 0, 0, 0, 0, 0],\n",
    "                      [0, 0, d / 2, -d / 2, 0, 0, 0],\n",
    "                      [0, 0, 0, 0, d / 2, -d / 2, 0]])\n",
    "\n",
    "    # 将 r 转换为数组\n",
    "    r = np.array(r)\n",
    "\n",
    "    # 将 r 添加到 mic_7 中的每个元素\n",
    "    mic_7 = mic_7 + r[:, np.newaxis]\n",
    "\n",
    "    return mic_7\n",
    "\n",
    "r=[3.5, 2, 0.5]\n",
    "mic = SDML7(0.5,r)#第一个SRIR的位置是[0,-20,-3] 第二个SRIR的位置是[0, -8, -3] 中间值是[0, -14, -3]\n",
    "room.add_microphone(mic)\n",
    "\n",
    "fig, ax = room.plot()\n",
    "ax.set_xlim([-1, 6])\n",
    "ax.set_ylim([-1, 4])\n",
    "ax.set_zlim([-1, 3])\n",
    "fig.show()\n",
    "\n",
    "# compute image sources\n",
    "room.image_source_model()\n",
    "\n",
    "# visualize 3D polyhedron room and image sources\n",
    "fig, ax = room.plot(img_order=3)\n",
    "fig.set_size_inches(18.5, 10.5)"
   ]
  },
  {
   "cell_type": "code",
   "execution_count": null,
   "id": "57118ffd",
   "metadata": {},
   "outputs": [],
   "source": [
    "room.plot_rir()\n",
    "fig = plt.gcf()\n",
    "fig.set_size_inches(20, 10)"
   ]
  },
  {
   "cell_type": "code",
   "execution_count": null,
   "id": "839e6227",
   "metadata": {},
   "outputs": [],
   "source": [
    "room.simulate()\n",
    "print(room.mic_array.signals.shape)"
   ]
  },
  {
   "cell_type": "code",
   "execution_count": null,
   "id": "e883a4c2",
   "metadata": {},
   "outputs": [],
   "source": [
    "# original signal\n",
    "print(\"Original WAV:\")\n",
    "IPython.display.Audio(signal, rate=fs)"
   ]
  },
  {
   "cell_type": "code",
   "execution_count": null,
   "id": "7187d7b3",
   "metadata": {
    "scrolled": true
   },
   "outputs": [],
   "source": [
    "print(\"Simulated propagation to first mic:\")\n",
    "IPython.display.Audio(room.mic_array.signals[0,:], rate=fs)"
   ]
  },
  {
   "cell_type": "code",
   "execution_count": null,
   "id": "20fbb501",
   "metadata": {},
   "outputs": [],
   "source": [
    " room.mic_array.signals"
   ]
  }
 ],
 "metadata": {
  "kernelspec": {
   "display_name": "python10",
   "language": "python",
   "name": "python3"
  },
  "language_info": {
   "codemirror_mode": {
    "name": "ipython",
    "version": 3
   },
   "file_extension": ".py",
   "mimetype": "text/x-python",
   "name": "python",
   "nbconvert_exporter": "python",
   "pygments_lexer": "ipython3",
   "version": "3.10.14"
  }
 },
 "nbformat": 4,
 "nbformat_minor": 5
}
